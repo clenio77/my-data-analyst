{
 "cells": [
  {
   "cell_type": "markdown",
   "metadata": {},
   "source": [
    "<!-- Projeto Desenvolvido na Data Science Academy - www.datascienceacademy.com.br -->\n",
    "# <font color='blue'>Data Science Academy</font>\n",
    "# <font color='blue'>Projetos de Análise de Dados com Linguagem Python</font>\n",
    "# <font color='blue'>Projeto 2 - Técnicas de Pré-Processamento Para Análise de Dados</font>"
   ]
  },
  {
   "cell_type": "markdown",
   "metadata": {},
   "source": [
    "## Pacotes Python Usados no Projeto"
   ]
  },
  {
   "cell_type": "code",
   "execution_count": null,
   "metadata": {},
   "outputs": [],
   "source": [
    "!pip install -q -U watermark"
   ]
  },
  {
   "cell_type": "code",
   "execution_count": null,
   "metadata": {},
   "outputs": [],
   "source": [
    "!pip install -q missingno"
   ]
  },
  {
   "cell_type": "code",
   "execution_count": 8,
   "metadata": {
    "ExecuteTime": {
     "end_time": "2021-09-13T07:25:28.577903Z",
     "start_time": "2021-09-13T07:25:28.555748Z"
    }
   },
   "outputs": [],
   "source": [
    "# Imports\n",
    "import pandas as pd\n",
    "import numpy as np\n",
    "import matplotlib.pyplot as plt\n",
    "import seaborn as sns\n",
    "import missingno as msno"
   ]
  },
  {
   "cell_type": "code",
   "execution_count": 9,
   "metadata": {},
   "outputs": [
    {
     "name": "stdout",
     "output_type": "stream",
     "text": [
      "Author: Clênio Moura\n",
      "\n"
     ]
    }
   ],
   "source": [
    "%reload_ext watermark\n",
    "%watermark -a \"Clênio Moura\""
   ]
  },
  {
   "cell_type": "markdown",
   "metadata": {},
   "source": [
    "## Carregando os Dados"
   ]
  },
  {
   "cell_type": "code",
   "execution_count": 10,
   "metadata": {
    "ExecuteTime": {
     "end_time": "2021-09-13T07:25:28.699828Z",
     "start_time": "2021-09-13T07:25:28.581886Z"
    },
    "scrolled": true
   },
   "outputs": [],
   "source": [
    "# Carrega o dataset\n",
    "df = pd.read_csv(\"dataset.csv\")"
   ]
  },
  {
   "cell_type": "code",
   "execution_count": 11,
   "metadata": {},
   "outputs": [
    {
     "data": {
      "text/plain": [
       "pandas.core.frame.DataFrame"
      ]
     },
     "execution_count": 11,
     "metadata": {},
     "output_type": "execute_result"
    }
   ],
   "source": [
    "type(df)"
   ]
  },
  {
   "cell_type": "code",
   "execution_count": 12,
   "metadata": {},
   "outputs": [
    {
     "data": {
      "text/plain": [
       "(500, 5)"
      ]
     },
     "execution_count": 12,
     "metadata": {},
     "output_type": "execute_result"
    }
   ],
   "source": [
    "# Shape\n",
    "df.shape"
   ]
  },
  {
   "cell_type": "code",
   "execution_count": 13,
   "metadata": {},
   "outputs": [
    {
     "data": {
      "text/plain": [
       "Index(['Idade', 'Salario', 'Genero', 'Escolaridade',\n",
       "       'Score_Exame_Psicotecnico'],\n",
       "      dtype='object')"
      ]
     },
     "execution_count": 13,
     "metadata": {},
     "output_type": "execute_result"
    }
   ],
   "source": [
    "# Colunas\n",
    "df.columns"
   ]
  },
  {
   "cell_type": "code",
   "execution_count": 15,
   "metadata": {},
   "outputs": [
    {
     "data": {
      "text/html": [
       "<div>\n",
       "<style scoped>\n",
       "    .dataframe tbody tr th:only-of-type {\n",
       "        vertical-align: middle;\n",
       "    }\n",
       "\n",
       "    .dataframe tbody tr th {\n",
       "        vertical-align: top;\n",
       "    }\n",
       "\n",
       "    .dataframe thead th {\n",
       "        text-align: right;\n",
       "    }\n",
       "</style>\n",
       "<table border=\"1\" class=\"dataframe\">\n",
       "  <thead>\n",
       "    <tr style=\"text-align: right;\">\n",
       "      <th></th>\n",
       "      <th>Idade</th>\n",
       "      <th>Salario</th>\n",
       "      <th>Genero</th>\n",
       "      <th>Escolaridade</th>\n",
       "      <th>Score_Exame_Psicotecnico</th>\n",
       "    </tr>\n",
       "  </thead>\n",
       "  <tbody>\n",
       "    <tr>\n",
       "      <th>0</th>\n",
       "      <td>58</td>\n",
       "      <td>30404.959339</td>\n",
       "      <td>Masculino</td>\n",
       "      <td>Médio</td>\n",
       "      <td>56.0</td>\n",
       "    </tr>\n",
       "    <tr>\n",
       "      <th>1</th>\n",
       "      <td>48</td>\n",
       "      <td>20886.502401</td>\n",
       "      <td>Feminino</td>\n",
       "      <td>Médio</td>\n",
       "      <td>NaN</td>\n",
       "    </tr>\n",
       "    <tr>\n",
       "      <th>2</th>\n",
       "      <td>34</td>\n",
       "      <td>15959.388748</td>\n",
       "      <td>Masculino</td>\n",
       "      <td>Médio</td>\n",
       "      <td>57.0</td>\n",
       "    </tr>\n",
       "    <tr>\n",
       "      <th>3</th>\n",
       "      <td>62</td>\n",
       "      <td>28534.995327</td>\n",
       "      <td>Outro</td>\n",
       "      <td>Superior</td>\n",
       "      <td>68.0</td>\n",
       "    </tr>\n",
       "    <tr>\n",
       "      <th>4</th>\n",
       "      <td>27</td>\n",
       "      <td>10553.176215</td>\n",
       "      <td>Outro</td>\n",
       "      <td>Fundamental</td>\n",
       "      <td>44.0</td>\n",
       "    </tr>\n",
       "  </tbody>\n",
       "</table>\n",
       "</div>"
      ],
      "text/plain": [
       "   Idade       Salario     Genero Escolaridade  Score_Exame_Psicotecnico\n",
       "0     58  30404.959339  Masculino        Médio                      56.0\n",
       "1     48  20886.502401   Feminino        Médio                       NaN\n",
       "2     34  15959.388748  Masculino        Médio                      57.0\n",
       "3     62  28534.995327      Outro     Superior                      68.0\n",
       "4     27  10553.176215      Outro  Fundamental                      44.0"
      ]
     },
     "execution_count": 15,
     "metadata": {},
     "output_type": "execute_result"
    }
   ],
   "source": [
    "# 5 primeiras linhas do dataset\n",
    "df.head()"
   ]
  },
  {
   "cell_type": "code",
   "execution_count": 18,
   "metadata": {},
   "outputs": [
    {
     "data": {
      "text/html": [
       "<div>\n",
       "<style scoped>\n",
       "    .dataframe tbody tr th:only-of-type {\n",
       "        vertical-align: middle;\n",
       "    }\n",
       "\n",
       "    .dataframe tbody tr th {\n",
       "        vertical-align: top;\n",
       "    }\n",
       "\n",
       "    .dataframe thead th {\n",
       "        text-align: right;\n",
       "    }\n",
       "</style>\n",
       "<table border=\"1\" class=\"dataframe\">\n",
       "  <thead>\n",
       "    <tr style=\"text-align: right;\">\n",
       "      <th></th>\n",
       "      <th>Idade</th>\n",
       "      <th>Salario</th>\n",
       "      <th>Genero</th>\n",
       "      <th>Escolaridade</th>\n",
       "      <th>Score_Exame_Psicotecnico</th>\n",
       "    </tr>\n",
       "  </thead>\n",
       "  <tbody>\n",
       "    <tr>\n",
       "      <th>206</th>\n",
       "      <td>52</td>\n",
       "      <td>33615.620386</td>\n",
       "      <td>Feminino</td>\n",
       "      <td>Superior</td>\n",
       "      <td>90.0</td>\n",
       "    </tr>\n",
       "    <tr>\n",
       "      <th>345</th>\n",
       "      <td>52</td>\n",
       "      <td>23865.594650</td>\n",
       "      <td>Outro</td>\n",
       "      <td>Superior</td>\n",
       "      <td>89.0</td>\n",
       "    </tr>\n",
       "    <tr>\n",
       "      <th>44</th>\n",
       "      <td>33</td>\n",
       "      <td>16879.022791</td>\n",
       "      <td>Outro</td>\n",
       "      <td>Médio</td>\n",
       "      <td>54.0</td>\n",
       "    </tr>\n",
       "    <tr>\n",
       "      <th>369</th>\n",
       "      <td>48</td>\n",
       "      <td>23879.374564</td>\n",
       "      <td>Feminino</td>\n",
       "      <td>Fundamental</td>\n",
       "      <td>39.0</td>\n",
       "    </tr>\n",
       "    <tr>\n",
       "      <th>18</th>\n",
       "      <td>43</td>\n",
       "      <td>27888.324479</td>\n",
       "      <td>Outro</td>\n",
       "      <td>Médio</td>\n",
       "      <td>51.0</td>\n",
       "    </tr>\n",
       "    <tr>\n",
       "      <th>436</th>\n",
       "      <td>20</td>\n",
       "      <td>10854.327191</td>\n",
       "      <td>Feminino</td>\n",
       "      <td>Fundamental</td>\n",
       "      <td>36.0</td>\n",
       "    </tr>\n",
       "    <tr>\n",
       "      <th>174</th>\n",
       "      <td>20</td>\n",
       "      <td>6501.372460</td>\n",
       "      <td>Feminino</td>\n",
       "      <td>Superior</td>\n",
       "      <td>69.0</td>\n",
       "    </tr>\n",
       "    <tr>\n",
       "      <th>117</th>\n",
       "      <td>56</td>\n",
       "      <td>31114.249662</td>\n",
       "      <td>Outro</td>\n",
       "      <td>Fundamental</td>\n",
       "      <td>33.0</td>\n",
       "    </tr>\n",
       "    <tr>\n",
       "      <th>185</th>\n",
       "      <td>52</td>\n",
       "      <td>NaN</td>\n",
       "      <td>Masculino</td>\n",
       "      <td>Fundamental</td>\n",
       "      <td>55.0</td>\n",
       "    </tr>\n",
       "    <tr>\n",
       "      <th>323</th>\n",
       "      <td>38</td>\n",
       "      <td>18722.076645</td>\n",
       "      <td>Outro</td>\n",
       "      <td>Superior</td>\n",
       "      <td>74.0</td>\n",
       "    </tr>\n",
       "  </tbody>\n",
       "</table>\n",
       "</div>"
      ],
      "text/plain": [
       "     Idade       Salario     Genero Escolaridade  Score_Exame_Psicotecnico\n",
       "206     52  33615.620386   Feminino     Superior                      90.0\n",
       "345     52  23865.594650      Outro     Superior                      89.0\n",
       "44      33  16879.022791      Outro        Médio                      54.0\n",
       "369     48  23879.374564   Feminino  Fundamental                      39.0\n",
       "18      43  27888.324479      Outro        Médio                      51.0\n",
       "436     20  10854.327191   Feminino  Fundamental                      36.0\n",
       "174     20   6501.372460   Feminino     Superior                      69.0\n",
       "117     56  31114.249662      Outro  Fundamental                      33.0\n",
       "185     52           NaN  Masculino  Fundamental                      55.0\n",
       "323     38  18722.076645      Outro     Superior                      74.0"
      ]
     },
     "execution_count": 18,
     "metadata": {},
     "output_type": "execute_result"
    }
   ],
   "source": [
    "# Amostra dos dados(aleatória)\n",
    "df.sample(10)"
   ]
  },
  {
   "cell_type": "code",
   "execution_count": 17,
   "metadata": {
    "ExecuteTime": {
     "end_time": "2021-09-13T07:25:28.741258Z",
     "start_time": "2021-09-13T07:25:28.703324Z"
    }
   },
   "outputs": [
    {
     "name": "stdout",
     "output_type": "stream",
     "text": [
      "<class 'pandas.core.frame.DataFrame'>\n",
      "RangeIndex: 500 entries, 0 to 499\n",
      "Data columns (total 5 columns):\n",
      " #   Column                    Non-Null Count  Dtype  \n",
      "---  ------                    --------------  -----  \n",
      " 0   Idade                     500 non-null    int64  \n",
      " 1   Salario                   450 non-null    float64\n",
      " 2   Genero                    500 non-null    object \n",
      " 3   Escolaridade              500 non-null    object \n",
      " 4   Score_Exame_Psicotecnico  470 non-null    float64\n",
      "dtypes: float64(2), int64(1), object(2)\n",
      "memory usage: 19.7+ KB\n"
     ]
    }
   ],
   "source": [
    "# Info\n",
    "df.info()"
   ]
  },
  {
   "cell_type": "markdown",
   "metadata": {},
   "source": [
    "## Análise Exploratória de Dados\n",
    "\n",
    "Esta etapa do processo ajuda a compreender como os dados estão organizados e os eventuais problemas."
   ]
  },
  {
   "cell_type": "code",
   "execution_count": 19,
   "metadata": {
    "ExecuteTime": {
     "end_time": "2021-09-13T07:25:28.845587Z",
     "start_time": "2021-09-13T07:25:28.745277Z"
    },
    "scrolled": true
   },
   "outputs": [
    {
     "data": {
      "text/html": [
       "<div>\n",
       "<style scoped>\n",
       "    .dataframe tbody tr th:only-of-type {\n",
       "        vertical-align: middle;\n",
       "    }\n",
       "\n",
       "    .dataframe tbody tr th {\n",
       "        vertical-align: top;\n",
       "    }\n",
       "\n",
       "    .dataframe thead th {\n",
       "        text-align: right;\n",
       "    }\n",
       "</style>\n",
       "<table border=\"1\" class=\"dataframe\">\n",
       "  <thead>\n",
       "    <tr style=\"text-align: right;\">\n",
       "      <th></th>\n",
       "      <th>Genero</th>\n",
       "      <th>Escolaridade</th>\n",
       "    </tr>\n",
       "  </thead>\n",
       "  <tbody>\n",
       "    <tr>\n",
       "      <th>count</th>\n",
       "      <td>500</td>\n",
       "      <td>500</td>\n",
       "    </tr>\n",
       "    <tr>\n",
       "      <th>unique</th>\n",
       "      <td>3</td>\n",
       "      <td>3</td>\n",
       "    </tr>\n",
       "    <tr>\n",
       "      <th>top</th>\n",
       "      <td>Feminino</td>\n",
       "      <td>Médio</td>\n",
       "    </tr>\n",
       "    <tr>\n",
       "      <th>freq</th>\n",
       "      <td>169</td>\n",
       "      <td>274</td>\n",
       "    </tr>\n",
       "  </tbody>\n",
       "</table>\n",
       "</div>"
      ],
      "text/plain": [
       "          Genero Escolaridade\n",
       "count        500          500\n",
       "unique         3            3\n",
       "top     Feminino        Médio\n",
       "freq         169          274"
      ]
     },
     "execution_count": 19,
     "metadata": {},
     "output_type": "execute_result"
    }
   ],
   "source": [
    "# Descrevendo os dados não numéricos\n",
    "df.describe(include = object)"
   ]
  },
  {
   "cell_type": "code",
   "execution_count": 20,
   "metadata": {
    "ExecuteTime": {
     "end_time": "2021-09-13T07:25:28.894598Z",
     "start_time": "2021-09-13T07:25:28.846587Z"
    }
   },
   "outputs": [
    {
     "data": {
      "text/html": [
       "<div>\n",
       "<style scoped>\n",
       "    .dataframe tbody tr th:only-of-type {\n",
       "        vertical-align: middle;\n",
       "    }\n",
       "\n",
       "    .dataframe tbody tr th {\n",
       "        vertical-align: top;\n",
       "    }\n",
       "\n",
       "    .dataframe thead th {\n",
       "        text-align: right;\n",
       "    }\n",
       "</style>\n",
       "<table border=\"1\" class=\"dataframe\">\n",
       "  <thead>\n",
       "    <tr style=\"text-align: right;\">\n",
       "      <th></th>\n",
       "      <th>Idade</th>\n",
       "      <th>Salario</th>\n",
       "      <th>Score_Exame_Psicotecnico</th>\n",
       "    </tr>\n",
       "  </thead>\n",
       "  <tbody>\n",
       "    <tr>\n",
       "      <th>count</th>\n",
       "      <td>500.000000</td>\n",
       "      <td>450.000000</td>\n",
       "      <td>470.000000</td>\n",
       "    </tr>\n",
       "    <tr>\n",
       "      <th>mean</th>\n",
       "      <td>42.848000</td>\n",
       "      <td>21252.781137</td>\n",
       "      <td>61.565957</td>\n",
       "    </tr>\n",
       "    <tr>\n",
       "      <th>std</th>\n",
       "      <td>13.189725</td>\n",
       "      <td>8322.933018</td>\n",
       "      <td>17.662523</td>\n",
       "    </tr>\n",
       "    <tr>\n",
       "      <th>min</th>\n",
       "      <td>20.000000</td>\n",
       "      <td>-3254.849042</td>\n",
       "      <td>20.000000</td>\n",
       "    </tr>\n",
       "    <tr>\n",
       "      <th>25%</th>\n",
       "      <td>31.750000</td>\n",
       "      <td>15139.019963</td>\n",
       "      <td>48.000000</td>\n",
       "    </tr>\n",
       "    <tr>\n",
       "      <th>50%</th>\n",
       "      <td>44.000000</td>\n",
       "      <td>21681.102602</td>\n",
       "      <td>61.000000</td>\n",
       "    </tr>\n",
       "    <tr>\n",
       "      <th>75%</th>\n",
       "      <td>54.000000</td>\n",
       "      <td>27379.540314</td>\n",
       "      <td>74.000000</td>\n",
       "    </tr>\n",
       "    <tr>\n",
       "      <th>max</th>\n",
       "      <td>65.000000</td>\n",
       "      <td>40845.107626</td>\n",
       "      <td>100.000000</td>\n",
       "    </tr>\n",
       "  </tbody>\n",
       "</table>\n",
       "</div>"
      ],
      "text/plain": [
       "            Idade       Salario  Score_Exame_Psicotecnico\n",
       "count  500.000000    450.000000                470.000000\n",
       "mean    42.848000  21252.781137                 61.565957\n",
       "std     13.189725   8322.933018                 17.662523\n",
       "min     20.000000  -3254.849042                 20.000000\n",
       "25%     31.750000  15139.019963                 48.000000\n",
       "50%     44.000000  21681.102602                 61.000000\n",
       "75%     54.000000  27379.540314                 74.000000\n",
       "max     65.000000  40845.107626                100.000000"
      ]
     },
     "execution_count": 20,
     "metadata": {},
     "output_type": "execute_result"
    }
   ],
   "source": [
    "# Descrevendo os dados numéricos\n",
    "df.describe()"
   ]
  },
  {
   "cell_type": "markdown",
   "metadata": {
    "ExecuteTime": {
     "end_time": "2021-09-08T11:32:11.495969Z",
     "start_time": "2021-09-08T11:32:11.480299Z"
    }
   },
   "source": [
    "### Visualizando a Distribuição das Variáveis Quantitativas"
   ]
  },
  {
   "cell_type": "code",
   "execution_count": null,
   "metadata": {},
   "outputs": [],
   "source": [
    "df_dsa.head()"
   ]
  },
  {
   "cell_type": "code",
   "execution_count": null,
   "metadata": {},
   "outputs": [],
   "source": [
    "# Extraindo as colunas numéricas com List Comprehension\n",
    "colunas_selecionadas = [list(df_dsa.columns.values)[i] for i in [0, 1, 4]]"
   ]
  },
  {
   "cell_type": "code",
   "execution_count": null,
   "metadata": {},
   "outputs": [],
   "source": [
    "colunas_selecionadas"
   ]
  },
  {
   "cell_type": "code",
   "execution_count": null,
   "metadata": {
    "ExecuteTime": {
     "end_time": "2021-09-13T07:25:35.343203Z",
     "start_time": "2021-09-13T07:25:28.898536Z"
    }
   },
   "outputs": [],
   "source": [
    "# Distribuição de Idades\n",
    "plt.figure(figsize = (8, 6))\n",
    "sns.histplot(df_dsa['Idade'], kde = True)\n",
    "plt.title('Distribuição de Idades')\n",
    "plt.xlabel('Idade')\n",
    "plt.ylabel('Contagem')\n",
    "plt.show()"
   ]
  },
  {
   "cell_type": "code",
   "execution_count": null,
   "metadata": {},
   "outputs": [],
   "source": [
    "# Distribuição de Salários\n",
    "plt.figure(figsize = (8, 6))\n",
    "sns.histplot(df_dsa['Salario'], kde = True)\n",
    "plt.title('Distribuição de Salários')\n",
    "plt.xlabel('Salário')\n",
    "plt.ylabel('Contagem')\n",
    "plt.show()"
   ]
  },
  {
   "cell_type": "code",
   "execution_count": null,
   "metadata": {},
   "outputs": [],
   "source": [
    "# Distribuição de Scores\n",
    "plt.figure(figsize = (8, 6))\n",
    "sns.histplot(df_dsa['Score_Exame_Psicotecnico'], kde = True)\n",
    "plt.title('Distribuição de Scores')\n",
    "plt.xlabel('Score')\n",
    "plt.ylabel('Contagem')\n",
    "plt.show()"
   ]
  },
  {
   "cell_type": "markdown",
   "metadata": {},
   "source": [
    "### Visualizando a Distribuição das Variáveis Qualitativas"
   ]
  },
  {
   "cell_type": "code",
   "execution_count": null,
   "metadata": {},
   "outputs": [],
   "source": [
    "# Distribuição de Gênero\n",
    "plt.figure(figsize = (8, 6))\n",
    "sns.countplot(data = df_dsa, x = 'Genero')\n",
    "plt.title('Distribuição de Gênero')\n",
    "plt.xlabel('Gênero')\n",
    "plt.ylabel('Contagem')\n",
    "plt.show()"
   ]
  },
  {
   "cell_type": "code",
   "execution_count": null,
   "metadata": {},
   "outputs": [],
   "source": [
    "# Distribuição de Escolaridade\n",
    "plt.figure(figsize = (8, 6))\n",
    "sns.countplot(data = df_dsa, x = 'Escolaridade', order = ['Fundamental', 'Médio', 'Superior'])\n",
    "plt.title('Distribuição de Escolaridade')\n",
    "plt.xlabel('Escolaridade')\n",
    "plt.ylabel('Contagem')\n",
    "plt.show()"
   ]
  },
  {
   "cell_type": "markdown",
   "metadata": {},
   "source": [
    "### Correlação Entre Variáveis Quantitativas"
   ]
  },
  {
   "cell_type": "markdown",
   "metadata": {},
   "source": [
    "A correlação entre as variáveis quantitativas nos permite entender como uma variável se move em relação à outra. O método mais comum para calcular a correlação entre variáveis é usando o coeficiente de correlação de Pearson, que varia entre -1 e 1. \n",
    "\n",
    "- Quanto mais próximo de 1, mais forte é a correlação positiva.\n",
    "- Quanto mais próximo de -1, mais forte é a correlação negativa. \n",
    "- Próximo de 0 indica pouca ou nenhuma correlação.\n",
    "\n",
    "Vamos calcular a matriz de correlação e depois visualizá-la em um mapa de calor:"
   ]
  },
  {
   "cell_type": "code",
   "execution_count": null,
   "metadata": {},
   "outputs": [],
   "source": [
    "# Calculando a matriz de correlação apenas para as variáveis quantitativas\n",
    "correlation_matrix = df_dsa[  ['Idade', 'Salario', 'Score_Exame_Psicotecnico']  ].corr()"
   ]
  },
  {
   "cell_type": "code",
   "execution_count": null,
   "metadata": {},
   "outputs": [],
   "source": [
    "# Visualizando a matriz de correlação com um heatmap\n",
    "plt.figure(figsize = (8, 8))\n",
    "sns.heatmap(correlation_matrix, annot = True, cmap = 'coolwarm', vmin = -1, vmax = 1)\n",
    "plt.title('Correlação entre variáveis quantitativas')\n",
    "plt.show()"
   ]
  },
  {
   "cell_type": "markdown",
   "metadata": {},
   "source": [
    "### Associação Entre Variáveis Qualitativas\n",
    "\n",
    "Para variáveis categóricas usamos associação (e não correlação) para analisar a relação entre as variáveis. Vejamos algumas técnicas de associação."
   ]
  },
  {
   "cell_type": "markdown",
   "metadata": {},
   "source": [
    "**Tabela de Contingência**: É basicamente uma tabela cruzada (crosstab) que mostra a frequência (ou contagem) de observações em cada categoria para duas variáveis."
   ]
  },
  {
   "cell_type": "code",
   "execution_count": null,
   "metadata": {},
   "outputs": [],
   "source": [
    "# Tabela de Contingência\n",
    "tabela_contingencia = pd.crosstab(df_dsa['Genero'], df_dsa['Escolaridade'])"
   ]
  },
  {
   "cell_type": "code",
   "execution_count": null,
   "metadata": {},
   "outputs": [],
   "source": [
    "print(tabela_contingencia)"
   ]
  },
  {
   "cell_type": "markdown",
   "metadata": {},
   "source": [
    "**Teste do Qui-quadrado (χ²)**: É usado para testar a independência entre duas variáveis categóricas. \n",
    "\n",
    "O Teste do Qui-quadrado (chi-quadrado) é uma técnica estatística que é usada para determinar se há uma associação significativa entre duas variáveis categóricas em um conjunto de dados. Existem várias hipóteses associadas ao teste do qui-quadrado:\n",
    "\n",
    "Hipótese Nula (H0): A hipótese nula afirma que não há associação significativa entre as duas variáveis categóricas no conjunto de dados. Em outras palavras, as duas variáveis são independentes uma da outra.\n",
    "\n",
    "Hipótese Alternativa (H1 ou Ha): A hipótese alternativa é a negação da hipótese nula. Ela sugere que há uma associação significativa entre as duas variáveis categóricas no conjunto de dados. Em termos simples, as duas variáveis não são independentes.\n",
    "\n",
    "Aplicamos o teste e analisamos o valor-p. Se o valor-p for menor que um nível de significância (geralmente 0,05), podemos rejeitar a hipótese nula de que as variáveis são independentes."
   ]
  },
  {
   "cell_type": "code",
   "execution_count": null,
   "metadata": {},
   "outputs": [],
   "source": [
    "# Carrega a função chi2_contingency\n",
    "from scipy.stats import chi2_contingency"
   ]
  },
  {
   "cell_type": "code",
   "execution_count": null,
   "metadata": {},
   "outputs": [],
   "source": [
    "# Aplica a função chi2_contingency\n",
    "chi2, p, _, _ = chi2_contingency(tabela_contingencia)"
   ]
  },
  {
   "cell_type": "code",
   "execution_count": null,
   "metadata": {},
   "outputs": [],
   "source": [
    "print(f\"Valor-p do teste Qui-quadrado: {p:.4f}\")"
   ]
  },
  {
   "cell_type": "markdown",
   "metadata": {},
   "source": [
    "Nesse caso falhamos em rejeitar a H0. Provavelmente as duas variáveis são independentes uma da outra."
   ]
  },
  {
   "cell_type": "markdown",
   "metadata": {},
   "source": [
    "**Coeficiente de Contingência de Cramér (V)**: Mede a força da associação entre duas variáveis nominais. Seu valor varia de 0 (sem associação) a 1 (associação perfeita). É baseado no valor do qui-quadrado."
   ]
  },
  {
   "cell_type": "code",
   "execution_count": null,
   "metadata": {},
   "outputs": [],
   "source": [
    "# Calculando o Coeficiente de Contingência de Cramér\n",
    "n = tabela_contingencia.sum().sum()\n",
    "phi2 = chi2 / n\n",
    "r, k = tabela_contingencia.shape\n",
    "cramers_v = np.sqrt(phi2 / min(r-1, k-1))\n",
    "print(f\"Coeficiente de Cramér V: {cramers_v:.4f}\")"
   ]
  },
  {
   "cell_type": "markdown",
   "metadata": {},
   "source": [
    "Provavelmente não há associação entre as variáveis."
   ]
  },
  {
   "cell_type": "markdown",
   "metadata": {},
   "source": [
    "## Técnicas de Pré-Processamento de Dados"
   ]
  },
  {
   "cell_type": "markdown",
   "metadata": {},
   "source": [
    "Até aqui analisamos e exploramos os dados. Usamos o resultado desse trabalho para decidir o tipo de processamento que devemos realizar. Começaremos pelo tratamento de valores ausentes, duplicatas e valores negativos."
   ]
  },
  {
   "cell_type": "markdown",
   "metadata": {},
   "source": [
    "### Valores Duplicados"
   ]
  },
  {
   "cell_type": "code",
   "execution_count": null,
   "metadata": {},
   "outputs": [],
   "source": [
    "df_dsa.head()"
   ]
  },
  {
   "cell_type": "code",
   "execution_count": null,
   "metadata": {},
   "outputs": [],
   "source": [
    "# Usamos o método duplicated() para criar uma série de valores booleanos indicando duplicatas\n",
    "duplicatas = df_dsa.duplicated()"
   ]
  },
  {
   "cell_type": "code",
   "execution_count": null,
   "metadata": {},
   "outputs": [],
   "source": [
    "# Exibe as linhas que estão duplicadas\n",
    "df_dsa[duplicatas]"
   ]
  },
  {
   "cell_type": "markdown",
   "metadata": {},
   "source": [
    "> Não há linhas duplicadas."
   ]
  },
  {
   "cell_type": "markdown",
   "metadata": {},
   "source": [
    "### Valores Negativos"
   ]
  },
  {
   "cell_type": "code",
   "execution_count": null,
   "metadata": {},
   "outputs": [],
   "source": [
    "# Varificamos valores negativos na coluna Salario\n",
    "df_dsa[df_dsa['Salario'] < 0]"
   ]
  },
  {
   "cell_type": "markdown",
   "metadata": {},
   "source": [
    "> Valores negativos na variável Salario serão convertidos em valores ausentes e então faremos o tratamento de valores ausentes."
   ]
  },
  {
   "cell_type": "code",
   "execution_count": null,
   "metadata": {},
   "outputs": [],
   "source": [
    "# Substituímos valores negativos por NaN (valores ausentes)\n",
    "df_dsa['Salario'] = df_dsa['Salario'].apply(lambda x: x if x >= 0 else None)"
   ]
  },
  {
   "cell_type": "code",
   "execution_count": null,
   "metadata": {},
   "outputs": [],
   "source": [
    "# Varificamos valores negativos na coluna Salario\n",
    "df_dsa[df_dsa['Salario'] < 0]"
   ]
  },
  {
   "cell_type": "markdown",
   "metadata": {},
   "source": [
    "> Agora vamos tratar os valores ausentes."
   ]
  },
  {
   "cell_type": "markdown",
   "metadata": {},
   "source": [
    "### Valores Ausentes"
   ]
  },
  {
   "cell_type": "code",
   "execution_count": null,
   "metadata": {},
   "outputs": [],
   "source": [
    "# Mapa de valores ausentes\n",
    "msno.matrix(df_dsa, figsize = (10, 6), sparkline = False)\n",
    "plt.show()"
   ]
  },
  {
   "cell_type": "markdown",
   "metadata": {},
   "source": [
    "Neste gráfico, a presença de dados é representada por barras escuras e os valores ausentes são representados por espaços em branco. O lado direito do gráfico fornece um gráfico de barras que indica a quantidade total de valores presentes para cada variável.\n",
    "\n"
   ]
  },
  {
   "cell_type": "code",
   "execution_count": null,
   "metadata": {},
   "outputs": [],
   "source": [
    "# Usamos o método isna() para verificar valores ausentes em cada coluna\n",
    "valores_ausentes = df_dsa.isna().sum()"
   ]
  },
  {
   "cell_type": "code",
   "execution_count": null,
   "metadata": {},
   "outputs": [],
   "source": [
    "print(valores_ausentes)"
   ]
  },
  {
   "cell_type": "code",
   "execution_count": null,
   "metadata": {},
   "outputs": [],
   "source": [
    "# Calcular a porcentagem de valores ausentes em cada coluna\n",
    "porcentagem_ausentes = (df_dsa.isna().mean() * 100).round(2)"
   ]
  },
  {
   "cell_type": "code",
   "execution_count": null,
   "metadata": {},
   "outputs": [],
   "source": [
    "print(porcentagem_ausentes)"
   ]
  },
  {
   "cell_type": "markdown",
   "metadata": {},
   "source": [
    "### Estratégias de Tratamento de Valores Ausentes\n",
    "\n",
    "Quando você tem uma variável com valores ausentes, como nesse caso em que a variável \"salario\" tem 10% de valores ausentes, existem várias estratégias que você pode considerar para lidar com esses valores ausentes. A escolha da estratégia depende do contexto dos seus dados e do objetivo da análise. Algumas das estratégias comuns incluem:\n",
    "\n",
    "**Remoção de linhas**: Você pode optar por remover as linhas que contêm valores ausentes na coluna \"salario\". Isso é apropriado se a quantidade de dados faltantes for pequena em relação ao tamanho total do conjunto de dados e se a remoção não introduzir viés nos seus resultados. No entanto, essa estratégia pode levar à perda de informações.\n",
    "\n",
    "**Preenchimento com um valor padrão**: Dependendo do contexto, você pode optar por preencher os valores ausentes com um valor padrão, como a média, a mediana ou um valor específico. Isso pode ser apropriado se você acredita que os valores ausentes não são críticos e que um valor padrão não afetará significativamente a análise.\n",
    "\n",
    "**Preenchimento com base em outras variáveis**: Às vezes, você pode usar informações de outras variáveis do dataset para preencher os valores ausentes de \"salario\". Por exemplo, você pode preencher com a média dos salários de pessoas com a mesma escolaridade ou o mesmo gênero.\n",
    "\n",
    "**Modelo de previsão**: Se a variável \"salario\" for importante e os valores ausentes não puderem ser facilmente preenchidos com médias ou valores padrão, você pode criar um modelo preditivo para estimar os valores ausentes com base em outras variáveis relevantes. Isso é mais complexo, mas pode ser uma abordagem poderosa se você tiver dados suficientes e a variável \"salario\" for fundamental para sua análise.\n",
    "\n",
    "<!-- Projeto Desenvolvido na Data Science Academy - www.datascienceacademy.com.br -->"
   ]
  },
  {
   "cell_type": "markdown",
   "metadata": {},
   "source": [
    "### Teste de Normalidade Para Decidir a Estratégia de Tratamento de Valores Ausentes\n",
    "\n",
    "Para preencher os valores ausentes com a média devemos verificar se a variável segue uma distribuição normal. Se a variável seguir uma distribuição normal, podemos usar a média ou a mediana. Caso contrário devemos usar a mediana."
   ]
  },
  {
   "cell_type": "code",
   "execution_count": null,
   "metadata": {},
   "outputs": [],
   "source": [
    "from scipy import stats\n",
    "\n",
    "# Extraia a coluna \"salario\" em uma série\n",
    "salario = df_dsa['Salario']\n",
    "\n",
    "# Aplique o teste de Shapiro-Wilk\n",
    "stat, p_valor = stats.shapiro(salario)\n",
    "\n",
    "# Imprima o resultado do teste\n",
    "print(f\"Estatística de teste: {stat}\")\n",
    "print(f\"Valor-p: {p_valor}\")\n",
    "\n",
    "# Verifique a hipótese nula com base no p-valor\n",
    "alfa = 0.05  # Nível de significância\n",
    "if p_valor > alfa:\n",
    "    print(\"Não há evidências para rejeitar a hipótese nula (os dados parecem seguir uma distribuição normal).\")\n",
    "else:\n",
    "    print(\"A hipótese nula é rejeitada (os dados não seguem uma distribuição normal).\")"
   ]
  },
  {
   "cell_type": "markdown",
   "metadata": {},
   "source": [
    "> Podemos então usar a média e preencher os valores ausentes. Essa técnica é chamada de imputação."
   ]
  },
  {
   "cell_type": "markdown",
   "metadata": {},
   "source": [
    "### Imputação Para Tratamento de Valores Ausentes"
   ]
  },
  {
   "cell_type": "code",
   "execution_count": null,
   "metadata": {},
   "outputs": [],
   "source": [
    "# Calculamos a média da variável \"Salario\" (ignorando os valores ausentes)\n",
    "media_salario = df_dsa['Salario'].mean()"
   ]
  },
  {
   "cell_type": "code",
   "execution_count": null,
   "metadata": {},
   "outputs": [],
   "source": [
    "# Preenchemos os valores ausentes em \"salario\" com a média\n",
    "df_dsa['Salario'].fillna(media_salario, inplace = True)"
   ]
  },
  {
   "cell_type": "code",
   "execution_count": null,
   "metadata": {},
   "outputs": [],
   "source": [
    "# Usamos o método isna() para verificar valores ausentes em cada coluna\n",
    "valores_ausentes = df_dsa.isna().sum()\n",
    "print(valores_ausentes)"
   ]
  },
  {
   "cell_type": "code",
   "execution_count": null,
   "metadata": {},
   "outputs": [],
   "source": [
    "from scipy import stats\n",
    "\n",
    "# Extraia a coluna \"salario\" em uma série\n",
    "score_exame = df_dsa['Score_Exame_Psicotecnico']\n",
    "\n",
    "# Aplique o teste de Shapiro-Wilk\n",
    "stat, p_valor = stats.shapiro(score_exame)\n",
    "\n",
    "# Imprima o resultado do teste\n",
    "print(f\"Estatística de teste: {stat}\")\n",
    "print(f\"Valor-p: {p_valor}\")\n",
    "\n",
    "# Verifique a hipótese nula com base no p-valor\n",
    "alfa = 0.05  # Nível de significância\n",
    "if p_valor > alfa:\n",
    "    print(\"Não há evidências para rejeitar a hipótese nula (os dados parecem seguir uma distribuição normal).\")\n",
    "else:\n",
    "    print(\"A hipótese nula é rejeitada (os dados não seguem uma distribuição normal).\")"
   ]
  },
  {
   "cell_type": "markdown",
   "metadata": {},
   "source": [
    "> Podemos então usar a média e preencher os valores ausentes. Essa técnica é chamada de imputação."
   ]
  },
  {
   "cell_type": "code",
   "execution_count": null,
   "metadata": {},
   "outputs": [],
   "source": [
    "# Calculamos a média da variável \"Salario\" (ignorando os valores ausentes)\n",
    "media_score = df_dsa['Score_Exame_Psicotecnico'].mean()"
   ]
  },
  {
   "cell_type": "code",
   "execution_count": null,
   "metadata": {},
   "outputs": [],
   "source": [
    "# Preenchemos os valores ausentes em \"salario\" com a média\n",
    "df_dsa['Score_Exame_Psicotecnico'].fillna(media_score, inplace = True)"
   ]
  },
  {
   "cell_type": "code",
   "execution_count": null,
   "metadata": {},
   "outputs": [],
   "source": [
    "# Usamos o método isna() para verificar valores ausentes em cada coluna\n",
    "valores_ausentes = df_dsa.isna().sum()\n",
    "print(valores_ausentes)"
   ]
  },
  {
   "cell_type": "markdown",
   "metadata": {},
   "source": [
    "> Vimos que há correlação entre Idade e Salário. Mas se mudarmos a variável Idade para Faixa_Etaria, essa relação se confirma?"
   ]
  },
  {
   "cell_type": "markdown",
   "metadata": {},
   "source": [
    "### Teste Estatístico de Relação Entre Variável Quantitativa e Qualitativa"
   ]
  },
  {
   "cell_type": "code",
   "execution_count": null,
   "metadata": {},
   "outputs": [],
   "source": [
    "df_dsa.head()"
   ]
  },
  {
   "cell_type": "code",
   "execution_count": null,
   "metadata": {},
   "outputs": [],
   "source": [
    "# Definimos as faixas etárias desejadas em ordem crescente\n",
    "faixas_etarias = [0, 25, 35, 45, 55, float('inf')]  "
   ]
  },
  {
   "cell_type": "code",
   "execution_count": null,
   "metadata": {},
   "outputs": [],
   "source": [
    "# Definimos os rótulos para as faixas etárias\n",
    "rotulos_faixas = [\"Menos de 25\", \"25-34\", \"35-44\", \"45-54\", \"55 ou mais\"]"
   ]
  },
  {
   "cell_type": "code",
   "execution_count": null,
   "metadata": {},
   "outputs": [],
   "source": [
    "# Usamos a função pd.cut() para criar a variável de faixa etária\n",
    "df_dsa['Faixa_Etaria'] = pd.cut(df_dsa['Idade'], bins = faixas_etarias, labels = rotulos_faixas)"
   ]
  },
  {
   "cell_type": "code",
   "execution_count": null,
   "metadata": {},
   "outputs": [],
   "source": [
    "df_dsa.head()"
   ]
  },
  {
   "cell_type": "code",
   "execution_count": null,
   "metadata": {},
   "outputs": [],
   "source": [
    "df_dsa.info()"
   ]
  },
  {
   "cell_type": "code",
   "execution_count": null,
   "metadata": {},
   "outputs": [],
   "source": [
    "# Usamos o método drop() para remover a variável \"idade\"\n",
    "df_dsa.drop('Idade', axis = 1, inplace = True)"
   ]
  },
  {
   "cell_type": "code",
   "execution_count": null,
   "metadata": {},
   "outputs": [],
   "source": [
    "df_dsa.head()"
   ]
  },
  {
   "cell_type": "code",
   "execution_count": null,
   "metadata": {},
   "outputs": [],
   "source": [
    "# Arredondamos as colunas \"Salario\" e \"Score_Exame_Psicotecnico\" para inteiros\n",
    "df_dsa['Salario'] = df_dsa['Salario'].round().astype(int)\n",
    "df_dsa['Score_Exame_Psicotecnico'] = df_dsa['Score_Exame_Psicotecnico'].round().astype(int)"
   ]
  },
  {
   "cell_type": "code",
   "execution_count": null,
   "metadata": {},
   "outputs": [],
   "source": [
    "df_dsa.head()"
   ]
  },
  {
   "cell_type": "code",
   "execution_count": null,
   "metadata": {},
   "outputs": [],
   "source": [
    "df_dsa.describe()"
   ]
  },
  {
   "cell_type": "code",
   "execution_count": null,
   "metadata": {},
   "outputs": [],
   "source": [
    "# Média de salário por faixa etária\n",
    "media_salario_por_faixa_etaria = df_dsa.groupby('Faixa_Etaria')['Salario'].mean()\n",
    "media_salario_por_faixa_etaria"
   ]
  },
  {
   "cell_type": "code",
   "execution_count": null,
   "metadata": {},
   "outputs": [],
   "source": [
    "# Mediana de salário por faixa etária\n",
    "mediana_salario_por_faixa_etaria = df_dsa.groupby('Faixa_Etaria')['Salario'].median()\n",
    "mediana_salario_por_faixa_etaria"
   ]
  },
  {
   "cell_type": "code",
   "execution_count": null,
   "metadata": {},
   "outputs": [],
   "source": [
    "# Boxplots\n",
    "sns.boxplot(x = 'Faixa_Etaria', y = 'Salario', data = df_dsa)\n",
    "plt.xticks(rotation = 45)\n",
    "plt.show()"
   ]
  },
  {
   "cell_type": "code",
   "execution_count": null,
   "metadata": {},
   "outputs": [],
   "source": [
    "# Teste ANOVA\n",
    "\n",
    "# Import\n",
    "import scipy.stats as stats\n",
    "\n",
    "# Realize um teste de ANOVA para verificar as diferenças nas médias\n",
    "resultado_anova = stats.f_oneway(*[grupo['Salario'] for nome, grupo in df_dsa.groupby('Faixa_Etaria')])\n",
    "\n",
    "# Verifique o resultado do teste\n",
    "if resultado_anova.pvalue < 0.05:\n",
    "    print(\"Há evidências de diferenças significativas nas médias de salário entre as faixas etárias.\")\n",
    "else:\n",
    "    print(\"Não há evidências de diferenças significativas nas médias de salário entre as faixas etárias.\")"
   ]
  },
  {
   "cell_type": "markdown",
   "metadata": {},
   "source": [
    "> Sim, a relação realmente existe entre idade e salário."
   ]
  },
  {
   "cell_type": "markdown",
   "metadata": {},
   "source": [
    "## Relatório Final"
   ]
  },
  {
   "cell_type": "markdown",
   "metadata": {},
   "source": [
    "Com base em nossa análise observamos que:\n",
    "\n",
    "- A variável Salario apresentava valores negativos. Como não temos mais detalhes sobre isso, decidimos converter de valor negativo para valor ausente.\n",
    "- As variáveis Salario e Score_Exame_Psicotecnico apresentavam problemas de valores ausentes.\n",
    "- Tratamos os valores ausentes com a imputação da média pois as duas variáveis seguem uma distribuição normal.\n",
    "- Identificamos que não há relação entre as variáveis gênero e escolaridade, ou seja, elas são independentes.\n",
    "- Verificamos que há relação entre idade e salário, independente do valor individual da idade ou de faixa etária.\n",
    "- Nossas conclusões e decisões foram baseadas em testes estatísticos."
   ]
  },
  {
   "cell_type": "code",
   "execution_count": null,
   "metadata": {},
   "outputs": [],
   "source": [
    "%watermark -a \"Data Science Academy\""
   ]
  },
  {
   "cell_type": "code",
   "execution_count": null,
   "metadata": {},
   "outputs": [],
   "source": [
    "#%watermark"
   ]
  },
  {
   "cell_type": "code",
   "execution_count": null,
   "metadata": {},
   "outputs": [],
   "source": [
    "#%watermark --iversions"
   ]
  },
  {
   "cell_type": "markdown",
   "metadata": {},
   "source": [
    "# Fim"
   ]
  }
 ],
 "metadata": {
  "kernelspec": {
   "display_name": "Python 3 (ipykernel)",
   "language": "python",
   "name": "python3"
  },
  "language_info": {
   "codemirror_mode": {
    "name": "ipython",
    "version": 3
   },
   "file_extension": ".py",
   "mimetype": "text/x-python",
   "name": "python",
   "nbconvert_exporter": "python",
   "pygments_lexer": "ipython3",
   "version": "3.10.12"
  },
  "toc": {
   "base_numbering": 1,
   "nav_menu": {},
   "number_sections": true,
   "sideBar": true,
   "skip_h1_title": false,
   "title_cell": "Table of Contents",
   "title_sidebar": "Contents",
   "toc_cell": false,
   "toc_position": {
    "height": "calc(100% - 180px)",
    "left": "10px",
    "top": "150px",
    "width": "320.263px"
   },
   "toc_section_display": true,
   "toc_window_display": true
  }
 },
 "nbformat": 4,
 "nbformat_minor": 4
}
